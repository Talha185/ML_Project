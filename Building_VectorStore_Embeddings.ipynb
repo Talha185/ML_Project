{
 "cells": [
  {
   "cell_type": "code",
   "execution_count": 1,
   "id": "46dba4e2",
   "metadata": {},
   "outputs": [
    {
     "name": "stdout",
     "output_type": "stream",
     "text": [
      "Requirement already satisfied: langchain in d:\\anacondaa\\lib\\site-packages (0.0.248)\n",
      "Requirement already satisfied: PyYAML>=5.4.1 in d:\\anacondaa\\lib\\site-packages (from langchain) (6.0)\n",
      "Requirement already satisfied: SQLAlchemy<3,>=1.4 in d:\\anacondaa\\lib\\site-packages (from langchain) (1.4.39)\n",
      "Requirement already satisfied: aiohttp<4.0.0,>=3.8.3 in d:\\anacondaa\\lib\\site-packages (from langchain) (3.8.4)\n",
      "Requirement already satisfied: async-timeout<5.0.0,>=4.0.0 in d:\\anacondaa\\lib\\site-packages (from langchain) (4.0.2)\n",
      "Requirement already satisfied: dataclasses-json<0.6.0,>=0.5.7 in d:\\anacondaa\\lib\\site-packages (from langchain) (0.5.14)\n",
      "Requirement already satisfied: langsmith<0.1.0,>=0.0.11 in d:\\anacondaa\\lib\\site-packages (from langchain) (0.0.16)\n",
      "Requirement already satisfied: numexpr<3.0.0,>=2.8.4 in d:\\anacondaa\\lib\\site-packages (from langchain) (2.8.4)\n",
      "Requirement already satisfied: numpy<2,>=1 in d:\\anacondaa\\lib\\site-packages (from langchain) (1.23.5)\n",
      "Requirement already satisfied: openapi-schema-pydantic<2.0,>=1.2 in d:\\anacondaa\\lib\\site-packages (from langchain) (1.2.4)\n",
      "Requirement already satisfied: pydantic<2,>=1 in d:\\anacondaa\\lib\\site-packages (from langchain) (1.10.9)\n",
      "Requirement already satisfied: requests<3,>=2 in d:\\anacondaa\\lib\\site-packages (from langchain) (2.28.1)\n",
      "Requirement already satisfied: tenacity<9.0.0,>=8.1.0 in d:\\anacondaa\\lib\\site-packages (from langchain) (8.2.2)\n",
      "Requirement already satisfied: attrs>=17.3.0 in d:\\anacondaa\\lib\\site-packages (from aiohttp<4.0.0,>=3.8.3->langchain) (21.4.0)\n",
      "Requirement already satisfied: charset-normalizer<4.0,>=2.0 in d:\\anacondaa\\lib\\site-packages (from aiohttp<4.0.0,>=3.8.3->langchain) (2.0.4)\n",
      "Requirement already satisfied: multidict<7.0,>=4.5 in d:\\anacondaa\\lib\\site-packages (from aiohttp<4.0.0,>=3.8.3->langchain) (6.0.4)\n",
      "Requirement already satisfied: yarl<2.0,>=1.0 in d:\\anacondaa\\lib\\site-packages (from aiohttp<4.0.0,>=3.8.3->langchain) (1.9.2)\n",
      "Requirement already satisfied: frozenlist>=1.1.1 in d:\\anacondaa\\lib\\site-packages (from aiohttp<4.0.0,>=3.8.3->langchain) (1.3.3)\n",
      "Requirement already satisfied: aiosignal>=1.1.2 in d:\\anacondaa\\lib\\site-packages (from aiohttp<4.0.0,>=3.8.3->langchain) (1.3.1)\n",
      "Requirement already satisfied: marshmallow<4.0.0,>=3.18.0 in d:\\anacondaa\\lib\\site-packages (from dataclasses-json<0.6.0,>=0.5.7->langchain) (3.20.1)\n",
      "Requirement already satisfied: typing-inspect<1,>=0.4.0 in d:\\anacondaa\\lib\\site-packages (from dataclasses-json<0.6.0,>=0.5.7->langchain) (0.9.0)\n",
      "Requirement already satisfied: typing-extensions>=4.2.0 in d:\\anacondaa\\lib\\site-packages (from pydantic<2,>=1->langchain) (4.7.1)\n",
      "Requirement already satisfied: idna<4,>=2.5 in d:\\anacondaa\\lib\\site-packages (from requests<3,>=2->langchain) (2.10)\n",
      "Requirement already satisfied: urllib3<1.27,>=1.21.1 in d:\\anacondaa\\lib\\site-packages (from requests<3,>=2->langchain) (1.26.11)\n",
      "Requirement already satisfied: certifi>=2017.4.17 in d:\\anacondaa\\lib\\site-packages (from requests<3,>=2->langchain) (2022.12.7)\n",
      "Requirement already satisfied: greenlet!=0.4.17 in d:\\anacondaa\\lib\\site-packages (from SQLAlchemy<3,>=1.4->langchain) (1.1.1)\n",
      "Requirement already satisfied: packaging>=17.0 in d:\\anacondaa\\lib\\site-packages (from marshmallow<4.0.0,>=3.18.0->dataclasses-json<0.6.0,>=0.5.7->langchain) (21.3)\n",
      "Requirement already satisfied: mypy-extensions>=0.3.0 in d:\\anacondaa\\lib\\site-packages (from typing-inspect<1,>=0.4.0->dataclasses-json<0.6.0,>=0.5.7->langchain) (0.4.3)\n",
      "Requirement already satisfied: pyparsing!=3.0.5,>=2.0.2 in d:\\anacondaa\\lib\\site-packages (from packaging>=17.0->marshmallow<4.0.0,>=3.18.0->dataclasses-json<0.6.0,>=0.5.7->langchain) (3.0.9)\n"
     ]
    },
    {
     "name": "stderr",
     "output_type": "stream",
     "text": [
      "WARNING: Ignoring invalid distribution -rotobuf (c:\\users\\talha nadeem\\appdata\\roaming\\python\\python39\\site-packages)\n",
      "WARNING: Ignoring invalid distribution -rotobuf (c:\\users\\talha nadeem\\appdata\\roaming\\python\\python39\\site-packages)\n",
      "WARNING: Ignoring invalid distribution -rotobuf (c:\\users\\talha nadeem\\appdata\\roaming\\python\\python39\\site-packages)\n",
      "WARNING: Ignoring invalid distribution -rotobuf (c:\\users\\talha nadeem\\appdata\\roaming\\python\\python39\\site-packages)\n",
      "WARNING: Ignoring invalid distribution -rotobuf (c:\\users\\talha nadeem\\appdata\\roaming\\python\\python39\\site-packages)\n",
      "WARNING: Ignoring invalid distribution -rotobuf (c:\\users\\talha nadeem\\appdata\\roaming\\python\\python39\\site-packages)\n",
      "\n",
      "[notice] A new release of pip is available: 23.1.2 -> 23.3.1\n",
      "[notice] To update, run: python.exe -m pip install --upgrade pip\n"
     ]
    },
    {
     "name": "stdout",
     "output_type": "stream",
     "text": [
      "Requirement already satisfied: faiss-cpu in d:\\anacondaa\\lib\\site-packages (1.7.4)\n"
     ]
    },
    {
     "name": "stderr",
     "output_type": "stream",
     "text": [
      "WARNING: Ignoring invalid distribution -rotobuf (c:\\users\\talha nadeem\\appdata\\roaming\\python\\python39\\site-packages)\n",
      "WARNING: Ignoring invalid distribution -rotobuf (c:\\users\\talha nadeem\\appdata\\roaming\\python\\python39\\site-packages)\n",
      "WARNING: Ignoring invalid distribution -rotobuf (c:\\users\\talha nadeem\\appdata\\roaming\\python\\python39\\site-packages)\n",
      "WARNING: Ignoring invalid distribution -rotobuf (c:\\users\\talha nadeem\\appdata\\roaming\\python\\python39\\site-packages)\n",
      "WARNING: Ignoring invalid distribution -rotobuf (c:\\users\\talha nadeem\\appdata\\roaming\\python\\python39\\site-packages)\n",
      "WARNING: Ignoring invalid distribution -rotobuf (c:\\users\\talha nadeem\\appdata\\roaming\\python\\python39\\site-packages)\n",
      "\n",
      "[notice] A new release of pip is available: 23.1.2 -> 23.3.1\n",
      "[notice] To update, run: python.exe -m pip install --upgrade pip\n"
     ]
    },
    {
     "name": "stdout",
     "output_type": "stream",
     "text": [
      "Requirement already satisfied: openai in d:\\anacondaa\\lib\\site-packages (0.27.6)\n",
      "Requirement already satisfied: requests>=2.20 in d:\\anacondaa\\lib\\site-packages (from openai) (2.28.1)\n",
      "Requirement already satisfied: tqdm in d:\\anacondaa\\lib\\site-packages (from openai) (4.65.0)\n",
      "Requirement already satisfied: aiohttp in d:\\anacondaa\\lib\\site-packages (from openai) (3.8.4)\n",
      "Requirement already satisfied: charset-normalizer<3,>=2 in d:\\anacondaa\\lib\\site-packages (from requests>=2.20->openai) (2.0.4)\n",
      "Requirement already satisfied: idna<4,>=2.5 in d:\\anacondaa\\lib\\site-packages (from requests>=2.20->openai) (2.10)\n",
      "Requirement already satisfied: urllib3<1.27,>=1.21.1 in d:\\anacondaa\\lib\\site-packages (from requests>=2.20->openai) (1.26.11)\n",
      "Requirement already satisfied: certifi>=2017.4.17 in d:\\anacondaa\\lib\\site-packages (from requests>=2.20->openai) (2022.12.7)\n",
      "Requirement already satisfied: attrs>=17.3.0 in d:\\anacondaa\\lib\\site-packages (from aiohttp->openai) (21.4.0)\n",
      "Requirement already satisfied: multidict<7.0,>=4.5 in d:\\anacondaa\\lib\\site-packages (from aiohttp->openai) (6.0.4)\n",
      "Requirement already satisfied: async-timeout<5.0,>=4.0.0a3 in d:\\anacondaa\\lib\\site-packages (from aiohttp->openai) (4.0.2)\n",
      "Requirement already satisfied: yarl<2.0,>=1.0 in d:\\anacondaa\\lib\\site-packages (from aiohttp->openai) (1.9.2)\n",
      "Requirement already satisfied: frozenlist>=1.1.1 in d:\\anacondaa\\lib\\site-packages (from aiohttp->openai) (1.3.3)\n",
      "Requirement already satisfied: aiosignal>=1.1.2 in d:\\anacondaa\\lib\\site-packages (from aiohttp->openai) (1.3.1)\n",
      "Requirement already satisfied: colorama in d:\\anacondaa\\lib\\site-packages (from tqdm->openai) (0.4.5)\n"
     ]
    },
    {
     "name": "stderr",
     "output_type": "stream",
     "text": [
      "WARNING: Ignoring invalid distribution -rotobuf (c:\\users\\talha nadeem\\appdata\\roaming\\python\\python39\\site-packages)\n",
      "WARNING: Ignoring invalid distribution -rotobuf (c:\\users\\talha nadeem\\appdata\\roaming\\python\\python39\\site-packages)\n",
      "WARNING: Ignoring invalid distribution -rotobuf (c:\\users\\talha nadeem\\appdata\\roaming\\python\\python39\\site-packages)\n",
      "WARNING: Ignoring invalid distribution -rotobuf (c:\\users\\talha nadeem\\appdata\\roaming\\python\\python39\\site-packages)\n",
      "WARNING: Ignoring invalid distribution -rotobuf (c:\\users\\talha nadeem\\appdata\\roaming\\python\\python39\\site-packages)\n",
      "WARNING: Ignoring invalid distribution -rotobuf (c:\\users\\talha nadeem\\appdata\\roaming\\python\\python39\\site-packages)\n",
      "\n",
      "[notice] A new release of pip is available: 23.1.2 -> 23.3.1\n",
      "[notice] To update, run: python.exe -m pip install --upgrade pip\n"
     ]
    },
    {
     "name": "stdout",
     "output_type": "stream",
     "text": [
      "Collecting tiktoken\n",
      "  Downloading tiktoken-0.5.1-cp39-cp39-win_amd64.whl (760 kB)\n",
      "     ------------------------------------ 760.0/760.0 kB 173.2 kB/s eta 0:00:00\n",
      "Requirement already satisfied: regex>=2022.1.18 in d:\\anacondaa\\lib\\site-packages (from tiktoken) (2022.7.9)\n",
      "Requirement already satisfied: requests>=2.26.0 in d:\\anacondaa\\lib\\site-packages (from tiktoken) (2.28.1)\n",
      "Requirement already satisfied: charset-normalizer<3,>=2 in d:\\anacondaa\\lib\\site-packages (from requests>=2.26.0->tiktoken) (2.0.4)\n",
      "Requirement already satisfied: idna<4,>=2.5 in d:\\anacondaa\\lib\\site-packages (from requests>=2.26.0->tiktoken) (2.10)\n",
      "Requirement already satisfied: urllib3<1.27,>=1.21.1 in d:\\anacondaa\\lib\\site-packages (from requests>=2.26.0->tiktoken) (1.26.11)\n",
      "Requirement already satisfied: certifi>=2017.4.17 in d:\\anacondaa\\lib\\site-packages (from requests>=2.26.0->tiktoken) (2022.12.7)\n",
      "Installing collected packages: tiktoken\n",
      "Successfully installed tiktoken-0.5.1\n"
     ]
    },
    {
     "name": "stderr",
     "output_type": "stream",
     "text": [
      "WARNING: Ignoring invalid distribution -rotobuf (c:\\users\\talha nadeem\\appdata\\roaming\\python\\python39\\site-packages)\n",
      "WARNING: Ignoring invalid distribution -rotobuf (c:\\users\\talha nadeem\\appdata\\roaming\\python\\python39\\site-packages)\n",
      "WARNING: Retrying (Retry(total=4, connect=None, read=None, redirect=None, status=None)) after connection broken by 'ReadTimeoutError(\"HTTPSConnectionPool(host='pypi.org', port=443): Read timed out. (read timeout=15)\")': /simple/tiktoken/\n",
      "WARNING: Ignoring invalid distribution -rotobuf (c:\\users\\talha nadeem\\appdata\\roaming\\python\\python39\\site-packages)\n",
      "WARNING: Ignoring invalid distribution -rotobuf (c:\\users\\talha nadeem\\appdata\\roaming\\python\\python39\\site-packages)\n",
      "WARNING: Ignoring invalid distribution -rotobuf (c:\\users\\talha nadeem\\appdata\\roaming\\python\\python39\\site-packages)\n",
      "WARNING: Ignoring invalid distribution -rotobuf (c:\\users\\talha nadeem\\appdata\\roaming\\python\\python39\\site-packages)\n",
      "\n",
      "[notice] A new release of pip is available: 23.1.2 -> 23.3.1\n",
      "[notice] To update, run: python.exe -m pip install --upgrade pip\n"
     ]
    },
    {
     "name": "stdout",
     "output_type": "stream",
     "text": [
      "Requirement already satisfied: unstructured in d:\\anacondaa\\lib\\site-packages (0.8.7)\n",
      "Requirement already satisfied: chardet in d:\\anacondaa\\lib\\site-packages (from unstructured) (3.0.4)\n",
      "Requirement already satisfied: filetype in d:\\anacondaa\\lib\\site-packages (from unstructured) (1.2.0)\n",
      "Requirement already satisfied: lxml in d:\\anacondaa\\lib\\site-packages (from unstructured) (4.9.2)\n",
      "Requirement already satisfied: msg-parser in d:\\anacondaa\\lib\\site-packages (from unstructured) (1.2.0)\n",
      "Requirement already satisfied: nltk in d:\\anacondaa\\lib\\site-packages (from unstructured) (3.7)\n",
      "Requirement already satisfied: openpyxl in d:\\anacondaa\\lib\\site-packages (from unstructured) (3.0.10)\n",
      "Requirement already satisfied: pandas in d:\\anacondaa\\lib\\site-packages (from unstructured) (1.4.4)\n",
      "Requirement already satisfied: pdf2image in d:\\anacondaa\\lib\\site-packages (from unstructured) (1.16.3)\n",
      "Requirement already satisfied: pdfminer.six in d:\\anacondaa\\lib\\site-packages (from unstructured) (20221105)\n",
      "Requirement already satisfied: pillow in d:\\anacondaa\\lib\\site-packages (from unstructured) (9.2.0)\n",
      "Requirement already satisfied: pypandoc in d:\\anacondaa\\lib\\site-packages (from unstructured) (1.11)\n",
      "Requirement already satisfied: python-docx in d:\\anacondaa\\lib\\site-packages (from unstructured) (0.8.11)\n",
      "Requirement already satisfied: python-pptx in d:\\anacondaa\\lib\\site-packages (from unstructured) (0.6.21)\n",
      "Requirement already satisfied: python-magic in d:\\anacondaa\\lib\\site-packages (from unstructured) (0.4.27)\n",
      "Requirement already satisfied: markdown in d:\\anacondaa\\lib\\site-packages (from unstructured) (3.3.4)\n",
      "Requirement already satisfied: requests in d:\\anacondaa\\lib\\site-packages (from unstructured) (2.28.1)\n",
      "Requirement already satisfied: tabulate in d:\\anacondaa\\lib\\site-packages (from unstructured) (0.8.10)\n",
      "Requirement already satisfied: xlrd in d:\\anacondaa\\lib\\site-packages (from unstructured) (2.0.1)\n",
      "Requirement already satisfied: olefile>=0.46 in d:\\anacondaa\\lib\\site-packages (from msg-parser->unstructured) (0.46)\n",
      "Requirement already satisfied: click in c:\\users\\talha nadeem\\appdata\\roaming\\python\\python39\\site-packages (from nltk->unstructured) (8.1.3)\n",
      "Requirement already satisfied: joblib in d:\\anacondaa\\lib\\site-packages (from nltk->unstructured) (1.1.0)\n",
      "Requirement already satisfied: regex>=2021.8.3 in d:\\anacondaa\\lib\\site-packages (from nltk->unstructured) (2022.7.9)\n",
      "Requirement already satisfied: tqdm in d:\\anacondaa\\lib\\site-packages (from nltk->unstructured) (4.65.0)\n",
      "Requirement already satisfied: et_xmlfile in d:\\anacondaa\\lib\\site-packages (from openpyxl->unstructured) (1.1.0)\n",
      "Requirement already satisfied: python-dateutil>=2.8.1 in d:\\anacondaa\\lib\\site-packages (from pandas->unstructured) (2.8.2)\n",
      "Requirement already satisfied: pytz>=2020.1 in d:\\anacondaa\\lib\\site-packages (from pandas->unstructured) (2022.1)\n",
      "Requirement already satisfied: numpy>=1.18.5 in d:\\anacondaa\\lib\\site-packages (from pandas->unstructured) (1.23.5)\n",
      "Requirement already satisfied: charset-normalizer>=2.0.0 in d:\\anacondaa\\lib\\site-packages (from pdfminer.six->unstructured) (2.0.4)\n",
      "Requirement already satisfied: cryptography>=36.0.0 in d:\\anacondaa\\lib\\site-packages (from pdfminer.six->unstructured) (37.0.1)\n",
      "Requirement already satisfied: XlsxWriter>=0.5.7 in d:\\anacondaa\\lib\\site-packages (from python-pptx->unstructured) (3.0.3)\n",
      "Requirement already satisfied: idna<4,>=2.5 in d:\\anacondaa\\lib\\site-packages (from requests->unstructured) (2.10)\n",
      "Requirement already satisfied: urllib3<1.27,>=1.21.1 in d:\\anacondaa\\lib\\site-packages (from requests->unstructured) (1.26.11)\n",
      "Requirement already satisfied: certifi>=2017.4.17 in d:\\anacondaa\\lib\\site-packages (from requests->unstructured) (2022.12.7)\n",
      "Requirement already satisfied: cffi>=1.12 in d:\\anacondaa\\lib\\site-packages (from cryptography>=36.0.0->pdfminer.six->unstructured) (1.15.1)\n",
      "Requirement already satisfied: six>=1.5 in d:\\anacondaa\\lib\\site-packages (from python-dateutil>=2.8.1->pandas->unstructured) (1.16.0)\n",
      "Requirement already satisfied: colorama in d:\\anacondaa\\lib\\site-packages (from click->nltk->unstructured) (0.4.5)\n",
      "Requirement already satisfied: pycparser in d:\\anacondaa\\lib\\site-packages (from cffi>=1.12->cryptography>=36.0.0->pdfminer.six->unstructured) (2.21)\n"
     ]
    },
    {
     "name": "stderr",
     "output_type": "stream",
     "text": [
      "WARNING: Ignoring invalid distribution -rotobuf (c:\\users\\talha nadeem\\appdata\\roaming\\python\\python39\\site-packages)\n",
      "WARNING: Ignoring invalid distribution -rotobuf (c:\\users\\talha nadeem\\appdata\\roaming\\python\\python39\\site-packages)\n",
      "WARNING: Ignoring invalid distribution -rotobuf (c:\\users\\talha nadeem\\appdata\\roaming\\python\\python39\\site-packages)\n",
      "WARNING: Ignoring invalid distribution -rotobuf (c:\\users\\talha nadeem\\appdata\\roaming\\python\\python39\\site-packages)\n",
      "WARNING: Ignoring invalid distribution -rotobuf (c:\\users\\talha nadeem\\appdata\\roaming\\python\\python39\\site-packages)\n",
      "WARNING: Ignoring invalid distribution -rotobuf (c:\\users\\talha nadeem\\appdata\\roaming\\python\\python39\\site-packages)\n",
      "\n",
      "[notice] A new release of pip is available: 23.1.2 -> 23.3.1\n",
      "[notice] To update, run: python.exe -m pip install --upgrade pip\n"
     ]
    },
    {
     "name": "stdout",
     "output_type": "stream",
     "text": [
      "Collecting InstructorEmbedding\n",
      "  Downloading InstructorEmbedding-1.0.1-py2.py3-none-any.whl (19 kB)\n",
      "Installing collected packages: InstructorEmbedding\n",
      "Successfully installed InstructorEmbedding-1.0.1\n"
     ]
    },
    {
     "name": "stderr",
     "output_type": "stream",
     "text": [
      "WARNING: Ignoring invalid distribution -rotobuf (c:\\users\\talha nadeem\\appdata\\roaming\\python\\python39\\site-packages)\n",
      "WARNING: Ignoring invalid distribution -rotobuf (c:\\users\\talha nadeem\\appdata\\roaming\\python\\python39\\site-packages)\n",
      "WARNING: Ignoring invalid distribution -rotobuf (c:\\users\\talha nadeem\\appdata\\roaming\\python\\python39\\site-packages)\n",
      "WARNING: Ignoring invalid distribution -rotobuf (c:\\users\\talha nadeem\\appdata\\roaming\\python\\python39\\site-packages)\n",
      "WARNING: Ignoring invalid distribution -rotobuf (c:\\users\\talha nadeem\\appdata\\roaming\\python\\python39\\site-packages)\n",
      "WARNING: Ignoring invalid distribution -rotobuf (c:\\users\\talha nadeem\\appdata\\roaming\\python\\python39\\site-packages)\n",
      "\n",
      "[notice] A new release of pip is available: 23.1.2 -> 23.3.1\n",
      "[notice] To update, run: python.exe -m pip install --upgrade pip\n"
     ]
    },
    {
     "name": "stdout",
     "output_type": "stream",
     "text": [
      "Requirement already satisfied: sentence_transformers in d:\\anacondaa\\lib\\site-packages (2.2.2)\n",
      "Requirement already satisfied: transformers<5.0.0,>=4.6.0 in d:\\anacondaa\\lib\\site-packages (from sentence_transformers) (4.26.0)\n",
      "Requirement already satisfied: tqdm in d:\\anacondaa\\lib\\site-packages (from sentence_transformers) (4.65.0)\n",
      "Requirement already satisfied: torch>=1.6.0 in d:\\anacondaa\\lib\\site-packages (from sentence_transformers) (2.0.1)\n",
      "Requirement already satisfied: torchvision in d:\\anacondaa\\lib\\site-packages (from sentence_transformers) (0.15.2)\n",
      "Requirement already satisfied: numpy in d:\\anacondaa\\lib\\site-packages (from sentence_transformers) (1.23.5)\n",
      "Requirement already satisfied: scikit-learn in d:\\anacondaa\\lib\\site-packages (from sentence_transformers) (1.0.2)\n",
      "Requirement already satisfied: scipy in d:\\anacondaa\\lib\\site-packages (from sentence_transformers) (1.9.1)\n",
      "Requirement already satisfied: nltk in d:\\anacondaa\\lib\\site-packages (from sentence_transformers) (3.7)\n",
      "Requirement already satisfied: sentencepiece in d:\\anacondaa\\lib\\site-packages (from sentence_transformers) (0.1.99)\n",
      "Requirement already satisfied: huggingface-hub>=0.4.0 in d:\\anacondaa\\lib\\site-packages (from sentence_transformers) (0.15.1)\n",
      "Requirement already satisfied: filelock in d:\\anacondaa\\lib\\site-packages (from huggingface-hub>=0.4.0->sentence_transformers) (3.12.2)\n",
      "Requirement already satisfied: fsspec in d:\\anacondaa\\lib\\site-packages (from huggingface-hub>=0.4.0->sentence_transformers) (2022.7.1)\n",
      "Requirement already satisfied: requests in d:\\anacondaa\\lib\\site-packages (from huggingface-hub>=0.4.0->sentence_transformers) (2.28.1)\n",
      "Requirement already satisfied: pyyaml>=5.1 in d:\\anacondaa\\lib\\site-packages (from huggingface-hub>=0.4.0->sentence_transformers) (6.0)\n",
      "Requirement already satisfied: typing-extensions>=3.7.4.3 in d:\\anacondaa\\lib\\site-packages (from huggingface-hub>=0.4.0->sentence_transformers) (4.7.1)\n",
      "Requirement already satisfied: packaging>=20.9 in d:\\anacondaa\\lib\\site-packages (from huggingface-hub>=0.4.0->sentence_transformers) (21.3)\n",
      "Requirement already satisfied: sympy in d:\\anacondaa\\lib\\site-packages (from torch>=1.6.0->sentence_transformers) (1.10.1)\n",
      "Requirement already satisfied: networkx in d:\\anacondaa\\lib\\site-packages (from torch>=1.6.0->sentence_transformers) (2.8.4)\n",
      "Requirement already satisfied: jinja2 in d:\\anacondaa\\lib\\site-packages (from torch>=1.6.0->sentence_transformers) (2.11.3)\n",
      "Requirement already satisfied: colorama in d:\\anacondaa\\lib\\site-packages (from tqdm->sentence_transformers) (0.4.5)\n",
      "Requirement already satisfied: regex!=2019.12.17 in d:\\anacondaa\\lib\\site-packages (from transformers<5.0.0,>=4.6.0->sentence_transformers) (2022.7.9)\n",
      "Requirement already satisfied: tokenizers!=0.11.3,<0.14,>=0.11.1 in d:\\anacondaa\\lib\\site-packages (from transformers<5.0.0,>=4.6.0->sentence_transformers) (0.13.2)\n",
      "Requirement already satisfied: click in c:\\users\\talha nadeem\\appdata\\roaming\\python\\python39\\site-packages (from nltk->sentence_transformers) (8.1.3)\n",
      "Requirement already satisfied: joblib in d:\\anacondaa\\lib\\site-packages (from nltk->sentence_transformers) (1.1.0)\n",
      "Requirement already satisfied: threadpoolctl>=2.0.0 in d:\\anacondaa\\lib\\site-packages (from scikit-learn->sentence_transformers) (2.2.0)\n",
      "Requirement already satisfied: pillow!=8.3.*,>=5.3.0 in d:\\anacondaa\\lib\\site-packages (from torchvision->sentence_transformers) (9.2.0)\n",
      "Requirement already satisfied: pyparsing!=3.0.5,>=2.0.2 in d:\\anacondaa\\lib\\site-packages (from packaging>=20.9->huggingface-hub>=0.4.0->sentence_transformers) (3.0.9)\n",
      "Requirement already satisfied: MarkupSafe>=0.23 in d:\\anacondaa\\lib\\site-packages (from jinja2->torch>=1.6.0->sentence_transformers) (2.0.1)\n",
      "Requirement already satisfied: charset-normalizer<3,>=2 in d:\\anacondaa\\lib\\site-packages (from requests->huggingface-hub>=0.4.0->sentence_transformers) (2.0.4)\n",
      "Requirement already satisfied: idna<4,>=2.5 in d:\\anacondaa\\lib\\site-packages (from requests->huggingface-hub>=0.4.0->sentence_transformers) (2.10)\n",
      "Requirement already satisfied: urllib3<1.27,>=1.21.1 in d:\\anacondaa\\lib\\site-packages (from requests->huggingface-hub>=0.4.0->sentence_transformers) (1.26.11)\n",
      "Requirement already satisfied: certifi>=2017.4.17 in d:\\anacondaa\\lib\\site-packages (from requests->huggingface-hub>=0.4.0->sentence_transformers) (2022.12.7)\n",
      "Requirement already satisfied: mpmath>=0.19 in d:\\anacondaa\\lib\\site-packages (from sympy->torch>=1.6.0->sentence_transformers) (1.2.1)\n"
     ]
    },
    {
     "name": "stderr",
     "output_type": "stream",
     "text": [
      "WARNING: Ignoring invalid distribution -rotobuf (c:\\users\\talha nadeem\\appdata\\roaming\\python\\python39\\site-packages)\n",
      "WARNING: Ignoring invalid distribution -rotobuf (c:\\users\\talha nadeem\\appdata\\roaming\\python\\python39\\site-packages)\n",
      "WARNING: Ignoring invalid distribution -rotobuf (c:\\users\\talha nadeem\\appdata\\roaming\\python\\python39\\site-packages)\n",
      "WARNING: Ignoring invalid distribution -rotobuf (c:\\users\\talha nadeem\\appdata\\roaming\\python\\python39\\site-packages)\n",
      "WARNING: Ignoring invalid distribution -rotobuf (c:\\users\\talha nadeem\\appdata\\roaming\\python\\python39\\site-packages)\n",
      "WARNING: Ignoring invalid distribution -rotobuf (c:\\users\\talha nadeem\\appdata\\roaming\\python\\python39\\site-packages)\n",
      "\n",
      "[notice] A new release of pip is available: 23.1.2 -> 23.3.1\n",
      "[notice] To update, run: python.exe -m pip install --upgrade pip\n"
     ]
    }
   ],
   "source": [
    " !pip install langchain\n",
    " !pip install faiss-cpu\n",
    " !pip install openai\n",
    " !pip install tiktoken\n",
    " !pip install unstructured\n",
    " !pip install InstructorEmbedding\n",
    " !pip install sentence_transformers"
   ]
  },
  {
   "cell_type": "code",
   "execution_count": 10,
   "id": "d79ee732",
   "metadata": {},
   "outputs": [],
   "source": [
    "urls = [\n",
    "    'https://www.nu.edu.pk/',\n",
    "    'https://www.nu.edu.pk/Degree-Programs',\n",
    "    'https://www.nu.edu.pk/Admissions/Schedule',\n",
    "    'https://www.nu.edu.pk/Admissions/HowToApply',\n",
    "    'https://www.nu.edu.pk/Admissions/EligibilityCriteria',\n",
    "    'https://www.nu.edu.pk/Admissions/Scholarship',\n",
    "    'https://www.nu.edu.pk/Admissions/TestPattern',\n",
    "    'https://www.nu.edu.pk/Admissions/FeeStructure',\n",
    "   'http://isb.nu.edu.pk/Faculty/allfaculty#cs',\n",
    "    'http://isb.nu.edu.pk/Faculty/allfaculty#ms',\n",
    "    'http://isb.nu.edu.pk/Faculty/allfaculty#ee',\n",
    "    'http://isb.nu.edu.pk/Faculty/allfaculty#sh',\n",
    "    'http://isb.nu.edu.pk/Student/Grading',\n",
    "    'https://nu.edu.pk/Student/Calender',\n",
    "    'https://nu.edu.pk/Student/Conduct' ,\n",
    "    'https://nu.edu.pk/Student/HECEquivalence',\n",
    "    'https://nu.edu.pk/Student/FinancialRules',\n",
    "    'https://nu.edu.pk/University/History',\n",
    "    'https://nu.edu.pk/vision-and-mission' ,\n",
    "    'https://nu.edu.pk/home/ContactUs',\n",
    "    'https://www.nu.edu.pk/Degree-Programs',\n",
    "    'https://www.nu.edu.pk/Program/BBA' ,\n",
    "    'https://www.nu.edu.pk/Program/BS(AF)' ,\n",
    "    'https://www.nu.edu.pk/Program/BS(AI)',\n",
    "    'https://www.nu.edu.pk/Program/BS(BA)',\n",
    "    'https://www.nu.edu.pk/Program/BS(CV)' ,\n",
    "    'https://www.nu.edu.pk/Program/BS(CS)'\n",
    "]"
   ]
  },
  {
   "cell_type": "code",
   "execution_count": 11,
   "id": "fd00f247",
   "metadata": {},
   "outputs": [
    {
     "data": {
      "text/plain": [
       "['https://www.nu.edu.pk/',\n",
       " 'https://www.nu.edu.pk/Degree-Programs',\n",
       " 'https://www.nu.edu.pk/Admissions/Schedule',\n",
       " 'https://www.nu.edu.pk/Admissions/HowToApply',\n",
       " 'https://www.nu.edu.pk/Admissions/EligibilityCriteria',\n",
       " 'https://www.nu.edu.pk/Admissions/Scholarship',\n",
       " 'https://www.nu.edu.pk/Admissions/TestPattern',\n",
       " 'https://www.nu.edu.pk/Admissions/FeeStructure',\n",
       " 'http://isb.nu.edu.pk/Faculty/allfaculty#cs',\n",
       " 'http://isb.nu.edu.pk/Faculty/allfaculty#ms',\n",
       " 'http://isb.nu.edu.pk/Faculty/allfaculty#ee',\n",
       " 'http://isb.nu.edu.pk/Faculty/allfaculty#sh',\n",
       " 'http://isb.nu.edu.pk/Student/Grading',\n",
       " 'https://nu.edu.pk/Student/Calender',\n",
       " 'https://nu.edu.pk/Student/Conduct',\n",
       " 'https://nu.edu.pk/Student/HECEquivalence',\n",
       " 'https://nu.edu.pk/Student/FinancialRules',\n",
       " 'https://nu.edu.pk/University/History',\n",
       " 'https://nu.edu.pk/vision-and-mission',\n",
       " 'https://nu.edu.pk/home/ContactUs',\n",
       " 'https://www.nu.edu.pk/Degree-Programs',\n",
       " 'https://www.nu.edu.pk/Program/BBA',\n",
       " 'https://www.nu.edu.pk/Program/BS(AF)',\n",
       " 'https://www.nu.edu.pk/Program/BS(AI)',\n",
       " 'https://www.nu.edu.pk/Program/BS(BA)',\n",
       " 'https://www.nu.edu.pk/Program/BS(CV)',\n",
       " 'https://www.nu.edu.pk/Program/BS(CS)']"
      ]
     },
     "execution_count": 11,
     "metadata": {},
     "output_type": "execute_result"
    }
   ],
   "source": [
    "urls"
   ]
  },
  {
   "cell_type": "code",
   "execution_count": 12,
   "id": "f8bc4bdc",
   "metadata": {},
   "outputs": [
    {
     "name": "stderr",
     "output_type": "stream",
     "text": [
      "Fetching pages: 100%|##################################################################| 27/27 [00:04<00:00,  5.83it/s]\n"
     ]
    }
   ],
   "source": [
    "from langchain.document_loaders import WebBaseLoader\n",
    "import nest_asyncio\n",
    "\n",
    "nest_asyncio.apply()\n",
    "\n",
    "loader = WebBaseLoader(urls)\n",
    "scrape_data = loader.aload()"
   ]
  },
  {
   "cell_type": "code",
   "execution_count": 14,
   "id": "c9920815",
   "metadata": {},
   "outputs": [
    {
     "data": {
      "text/plain": [
       "Document(page_content=\"\\n\\n\\n\\n\\nBS(AI) - Program Details\\n\\n\\n\\n\\n\\n\\n\\n\\n\\n\\n\\n\\n\\n\\n\\n\\n\\n\\n\\n\\n\\n\\n\\n\\n\\n\\n\\n\\n\\n\\n\\n\\n\\n\\n\\n\\n\\n\\n\\n\\n\\n\\n\\n\\n\\n\\n\\n\\n\\nHome\\n\\n\\nAdmissions\\n\\n\\nOffered Programs\\n\\n\\nAdmission Schedule\\n\\n\\nHow To Apply\\n\\n\\nEligibility Criteria\\n\\n\\nLoans/Scholarships\\n\\n\\nTest Pattern\\n\\n\\nFee Structure\\n\\n\\nProspectus 2023\\n\\n\\n\\n\\nCampuses\\n\\n\\nChiniot-Faisalabad Campus\\n\\n\\nHome\\n\\n\\nFaculty & Staff\\n\\n\\nPhD Supervisors\\n\\n\\nEvents\\n\\n\\nMedal Holders\\n\\n\\nRector's List\\n\\n\\nDean's List\\n\\n\\nScholarship Awardees\\n\\n\\nEE Department (Mission Vision)\\n\\n\\n\\n\\nIslamabad Campus\\n\\n\\nHome\\n\\n\\nFaculty & Staff\\n\\n\\nPhD Supervisors\\n\\n\\nEvents\\n\\n\\nResearch\\n\\n\\nMedal Holders\\n\\n\\nRector's List\\n\\n\\nDean's List\\n\\n\\nScholarship Awardees\\n\\n\\nEE Department (Mission Vision)\\n\\n\\n\\n\\nKarachi Campus\\n\\n\\nHome\\n\\n\\nFaculty & Staff\\n\\n\\nPhD Supervisors\\n\\n\\nEvents\\n\\n\\nResearch\\n\\n\\nMedal Holders\\n\\n\\nRector's List\\n\\n\\nDean's List\\n\\n\\nScholarship Awardees\\n\\n\\nEE Department (Mission Vision)\\n\\n\\n\\n\\nLahore Campus\\n\\n\\nHome\\n\\n\\nFaculty & Staff\\n\\n\\nPhD Supervisors\\n\\n\\nEvents\\n\\n\\nResearch\\n\\n\\nMedal Holders\\n\\n\\nRector's List\\n\\n\\nDean's List\\n\\n\\nScholarship Awardees\\n\\n\\nCivil Engg. Department (Mission Vision)\\n\\n\\nEE Department (Mission Vision)\\n\\n\\n\\n\\nPeshawar Campus\\n\\n\\nHome\\n\\n\\nFaculty & Staff\\n\\n\\nPhD Supervisors\\n\\n\\nEvents\\n\\n\\nResearch\\n\\n\\nMedal Holders\\n\\n\\nRector's List\\n\\n\\nDean's List\\n\\n\\nScholarship Awardees\\n\\n\\nEE Department (Mission Vision)\\n\\n\\n\\n\\n\\n\\nStudents\\n\\n\\nDegree Verification Program\\n\\n\\nAcademic Calendar\\r\\n\\n\\n\\nCode of Conduct\\n\\n\\nGrading\\n\\n\\nStudent Chapters\\n\\n\\nIEEE-NUCES\\n\\n\\nNUCES-ACM\\n\\n\\n\\n\\nRules & Regulations\\n\\n\\nBachelor Programs\\n\\n\\nPhD Programs\\n\\n\\n\\n\\nFlex Student Module\\n\\n\\nPhd Graduates\\n\\n\\nFinancial Assistant/Scholarships\\n\\n\\n\\n\\nUniversity\\n\\n\\nHistory\\n\\n\\nFoundation\\n\\n\\nChancellor\\n\\n\\nVision & Mission Statement\\n\\n\\nBoard of Trustees\\n\\n\\nBoard of Governors\\n\\n\\nOfficers of the University\\n\\n\\nHeadquarters\\n\\n\\nPhD Faculty\\n\\n\\nHEC Approved PhD Supervisor\\n\\n\\nPhD Thesis Reviewers\\n\\n\\nPolicies\\n\\n\\n\\n\\nServices\\n\\n\\nFAST-NU Library\\n\\n\\nAlumni\\n\\n\\nOSAF\\n\\n\\n\\n\\nJob Portal\\n\\n\\nNU Mail\\n\\n\\nSLATE-LMS\\n\\n\\nCareer Services Office\\n\\n\\nPublic Information Officer\\n\\n\\nDownloads\\n\\n\\n\\n\\nORIC\\n\\n\\nHome\\n\\n\\nuniversity research profile  New \\n\\n\\nResearch funded projects\\n\\n\\nFunding Opportunities\\n\\n\\nFunded Projects\\n\\n\\n\\n\\nInnovation & Commercialization\\n\\n\\nConsultancy projects\\n\\n\\nIncubation Facilities\\n\\n\\nEntrepreneurs\\n\\n\\nPatent\\n\\n\\nResearch Labs\\n\\n\\n\\n\\nCapacity Building\\n\\n\\nConference/Seminar\\n\\n\\nTravel Grants\\n\\n\\n\\n\\nPolicies\\n\\n\\nPhoto Gallery\\n\\n\\nAnnouncements\\n\\n\\nScholarships\\n\\n\\nDownloads\\n\\n\\nForms\\n\\n\\n\\n\\nTeam\\n\\n\\n\\n\\nQEC\\n\\n\\nHome\\n\\n\\nTeam\\n\\n\\nAccreditation\\n\\n\\nSelf Assessment\\n\\n\\nTeam\\n\\n\\nStatus\\n\\n\\n\\n\\nCapacity Building\\n\\n\\nContribution\\n\\n\\nParticipation\\n\\n\\nFaculty Training\\n\\n\\nQEC Meetings\\n\\n\\nAnnual Activity Calendar\\n\\n\\nCapacity Building Calendar\\n\\n\\n\\n\\nPublications\\n\\n\\nPhoto Gallery\\n\\n\\nSSAPI\\n\\n\\nDownloads\\n\\n\\nNU Membership\\n\\n\\n\\n\\nContact Us\\n\\n\\nCareer\\n\\n\\n\\n\\n\\n\\n\\n\\n\\n\\n\\n\\n\\n\\n\\n\\n\\n\\n\\n\\n\\n\\nBachelor of Science (Artificial Intelligence)\\n\\n Home\\n Admissions\\nBS(AI) - Program Details\\n\\n\\n\\n\\n\\n\\n\\n\\n\\n\\n\\nThose who have taken the HSSC or an equivalent examination and are awaiting result are also eligible to apply.\\r\\n                                The four-year undergraduate programs of full time study are divided into eight semesters.\\r\\n                            \\n\\n\\n\\n\\nProgram Info\\n\\n\\nAward of DegreeFor the award of BS (Artificial Intelligence) degree, a student must have:\\n\\nPassed courses with a total of at least 132 credit hours, including all those courses that have been specified as core courses\\nObtained a CGPA of at least 2.00\\n\\n\\n\\n\\n\\nOffered Campuses\\n\\n\\n\\n\\nChiniot-Faisalabad\\nIslamabad\\nKarachi\\nLahore\\nPeshawar\\n\\n\\n\\n\\n\\n\\n\\n\\n\\n\\n\\n\\n\\nEligibility:\\n\\nAt least 60% marks in SSC (Matric) or an equivalent examination (such as O-levels) AND\\nShould have studied for HSSC or an equivalent qualification, for at least two years AND\\nAt least 50% marks in HSSC or an equivalent qualification AND\\nstudied Mathematics at the HSSC or equivalent level.\\n\\nSelection Criteria:\\n\\n50% weight to marks obtained in Admission Test AND\\n10% weight to higher percent score of SSC (or an equivalent exam) AND\\n 40% weight to higher percent score of HSSC (or an equivalent exam)\\n\\r\\n                                    Weightage of HSSC marks shall be calculated based on (which ever is applicable) at the time\\r\\n                                    of compilation of merit list\\r\\n                                    \\n\\r\\n                                            HSSC part I and II OR\\n\\nHSSC part I if HSSC part II not available OR\\nIBCC equivalence of A-level OR\\nIBCC equivalence of O-level\\n\\n\\n\\nCandidates having taken NTS-NAT IE or NAT ICS exam\\n\\n\\nCut-off marks in the NTS-NAT IE exam to be determined by the University\\n\\n\\n\\nNOTE:All documents/transcripts will be checked at the time of admission. Any\\r\\n                                    incorrect/false information submitted by the applicant or any attempt to hide information\\r\\n                                    will lead to disqualification of the candidate.\\r\\n                                \\n\\n\\n\\n\\n\\n\\nTentative Study Plan\\n\\n\\n\\n\\n\\n\\nSr. No\\nCourse Name\\nCrdt Hrs.\\n\\n\\n\\n\\nSemester 1\\n\\n\\n1\\nIntroduction to ICT\\n0+1\\n\\n\\n2\\nProgramming Fundamentals\\n3+1\\n\\n\\n3\\nLinear Algebra\\n3+0\\n\\n\\n4\\nCalculus & Analytical Geometry\\n3+0\\n\\n\\n5\\nPakistan Studies\\n3+0\\n\\n\\n6\\nEnglish Composition & Comprehension\\n2+1\\n\\n\\n\\n\\n\\n\\n\\n\\nSr. No\\nCourse Name\\nCrdt Hrs.\\n\\n\\n\\n\\nSemester 2\\n\\n\\n1\\nObject Oriented Programming\\n3+1\\n\\n\\n2\\nDigital Logic Design\\n3+1\\n\\n\\n3\\nDifferential Equations\\n3+0\\n\\n\\n4\\nIslamic Studies/ Ethics\\n3+0\\n\\n\\n5\\nCommunication & Presentation Skills\\n2+1\\n\\n\\n\\n\\n\\n\\n\\n\\n\\nSr. No\\nCourse Name\\nCrdt Hrs.\\n\\n\\n\\n\\nSemester 3\\n\\n\\n1\\nProgramming for AI\\n3+1\\n\\n\\n2\\nData Structures\\n3+1\\n\\n\\n3\\nDiscrete Structures\\n3+0\\n\\n\\n4\\nProbability & Statistics\\n3+0\\n\\n\\n5\\nUniversity Elective – I\\n3+0\\n\\n\\n\\n\\n\\n\\n\\n\\nSr. No\\nCourse Name\\nCrdt Hrs.\\n\\n\\n\\n\\nSemester 4\\n\\n\\n1\\nArtificial Intelligence\\n3+1\\n\\n\\n2\\nFundamentals of Software Engineering\\n3+0\\n\\n\\n3\\nDatabase Systems\\n3+1\\n\\n\\n4\\nComputer Organization and Assembly Language\\n3+1\\n\\n\\n\\n\\n\\n\\n\\n\\n\\nSr. No\\nCourse Name\\nCrdt Hrs.\\n\\n\\n\\n\\nSemester 5\\n\\n\\n1\\nMachine Learning\\n3+1\\n\\n\\n2\\nKnowledge Representation & Reasoning\\n3+0\\n\\n\\n3\\nOperating Systems\\n3+1\\n\\n\\n4\\nDesign and Analysis of Algorithms\\n3+0\\n\\n\\n5\\nTechnical & Business Writing\\n3+0\\n\\n\\n\\n\\n\\n\\n\\n\\nSr. No\\nCourse Name\\nCrdt Hrs.\\n\\n\\n\\n\\nSemester 6\\n\\n\\n1\\nArtificial Neural Networks\\n3+0\\n\\n\\n2\\nComputer Networks\\n3+1\\n\\n\\n3\\nParallel & Distributed Computing\\n3+0\\n\\n\\n4\\nAI Elective I\\n3+0\\n\\n\\n5\\nAI Elective II\\n3+0\\n\\n\\n\\n\\n\\n\\n\\n\\n\\nSr. No\\nCourse Name\\nCrdt Hrs.\\n\\n\\n\\n\\nSemester 7\\n\\n\\n1\\nFinal Year Project – I\\n0+3\\n\\n\\n2\\nComputer Vision\\n3+1\\n\\n\\n3\\nFundamentals of Natural Language Processing\\n3+0\\n\\n\\n4\\nAI Elective III\\n3+0\\n\\n\\n5\\nUniversity Elective – II\\n3+0\\n\\n\\n\\n\\n\\n\\n\\n\\nSr. No\\nCourse Name\\nCrdt Hrs.\\n\\n\\n\\n\\nSemester 8\\n\\n\\n1\\nFinal Year Project – II\\n0+3\\n\\n\\n2\\nInformation Security\\n3+0\\n\\n\\n3\\nProfessional Practices\\n3+0\\n\\n\\n4\\nUniversity Elective – III\\n3+0\\n\\n\\n5\\nAI Elective IV\\n3+0\\n\\n\\n\\n\\n\\n\\n\\n\\n\\n\\nNote:\\xa0Registration in “Project-I” is allowed provided the student has earned at least 100 credit hours, and his/her CGPA is equal to or greater than the graduating CGPA (2.0).\\n\\n\\n\\n\\n\\n\\n\\nProgram Educational Objectives (PEO)\\n\\nKnowledge of the fundamentals of Computing and Artificial Intelligence - A graduate who is performing his/her professional roles with understanding of fundamental knowledge of computing and artificial intelligence acquired during his studies.\\nEthical and Societal Responsibilities -  A graduate who is fulfilling his/her professional responsibilities taking into account ethical and societal concerns with special emphasis on artificial intelligence and its applications.\\nCommunication Skills\\t - A graduate who is effective in oral and written communication of technical and managerial information.\\nLeadership -  A graduate who is effective in a leadership role of a group/team assigned to him/her or in an entrepreneurial environment.\\nContinuous Improvement - A graduate who keeps on exploring new fields and areas in computing and artificial intelligence for his/her organization or conducts research for academic pursuits.\\n\\n\\n\\n\\n\\nProgram Learning Outcomes (PLOs)\\n\\nComputing and Artificial Intelligence Knowledge - Apply knowledge of mathematics, natural sciences, computing fundamentals, and a computing specialization to solve complex computing problems using artificial intelligence techniques.\\nProblem Analysis - Identify, formulate, research literature, and analyze complex computational problems, reaching substantiated conclusions using first principles of mathematics, natural sciences, computing, and artificial intelligence.\\nDesign/Develop Solutions - Design solutions for complex computing problems and design systems, components, and processes that meet specified needs with appropriate consideration for public health and safety, cultural, societal, and environmental considerations.\\nInvestigation & Experimentation - Conduct investigation of complex computing problems using research based knowledge and research based methods.\\nModern Tool Usage - Create, select, and apply appropriate techniques, resources and modern computing and artificial intelligence tools, including prediction and modelling for complex computing problems.\\nSociety Responsibility - Apply reasoning informed by contextual knowledge to assess societal, health, safety, legal, and cultural issues relevant to context of complex computing problems.\\nEnvironment and Sustainability - Understand and evaluate sustainability and impact of professional computing and artificial intelligence work in solving complex computing problems.\\nEthics - Apply ethical principles and commit to professional ethics and responsibilities and norms of computing and artificial intelligence practice.\\nIndividual and Team Work - Function effectively as an individual, and as a member or leader in diverse teams and in multi-disciplinary settings.\\nCommunication - Communicate effectively on complex computing and AI activities with the computing and artificial intelligence community and with society at large.\\nProject Management and Finance - Demonstrate knowledge and understanding of management principles and economic decision making and apply these to one's own work as a member or a team.\\nLife Long Learning - Recognize the need for, and have the preparation and ability to engage in independent and life-long learning in the broadest context of technological changes.\\n\\n\\n\\n\\n\\n\\n\\n\\n\\n\\n\\n\\n\\n\\n\\n\\n\\n\\n\\nContact\\n\\n\\n\\n\\n\\n\\n\\n\\n\\nContact:\\n111-128-128\\n\\n\\n\\n\\n\\n\\n\\n\\nLocation:\\n\\nFAST-House\\nRohtas Road, G-9/4\\nIslamabad - 44000\\n\\n\\n\\n\\n\\n\\n\\n\\n\\nUSEFUL LINKS\\n\\n\\n\\n\\n\\nPrograms\\nPEEF\\nNU Mail\\nCareers\\nOSAF\\n\\n\\n\\n\\nDegree Verification\\nSLATE-LMS\\nORIC\\nQEC\\nContact Us\\nFAST-NU Library\\nCoE-CPEC\\n\\n\\n\\n\\n\\n\\n\\n\\n\\n\\n\\nCampuses\\n\\nChiniot-Faisalabad Campus\\nIslamabad Campus\\nKarachi Campus\\nLahore Campus\\nPeshawar Campus\\n\\n\\n\\n\\n\\n\\n\\nCopyright © 2023 , NUCES. All Rights Reserved.\\n\\n\\n\\n\\n\\n\\n\\n\\n\\n\\n\\n\\n\\n\\n\\n\\n\\n\\n\\n\\n\\n\\n\\n\\n\", metadata={'source': 'https://www.nu.edu.pk/Program/BS(AI)', 'title': 'BS(AI) - Program Details', 'language': 'No language found.'})"
      ]
     },
     "execution_count": 14,
     "metadata": {},
     "output_type": "execute_result"
    }
   ],
   "source": [
    "scrape_data[23]"
   ]
  },
  {
   "cell_type": "code",
   "execution_count": 15,
   "id": "7ddf6228",
   "metadata": {},
   "outputs": [
    {
     "name": "stdout",
     "output_type": "stream",
     "text": [
      "0\n",
      "1\n",
      "2\n",
      "3\n",
      "4\n",
      "5\n",
      "6\n",
      "7\n",
      "8\n",
      "9\n",
      "10\n",
      "11\n",
      "12\n",
      "13\n",
      "14\n",
      "15\n",
      "16\n",
      "17\n",
      "18\n",
      "19\n",
      "20\n",
      "21\n",
      "22\n",
      "23\n",
      "24\n",
      "25\n",
      "26\n"
     ]
    }
   ],
   "source": [
    "# Name of the text file\n",
    "file_name = \"scrapedData2.txt\"\n",
    "x = 0\n",
    "# Open the file in write mode\n",
    "with open(file_name, \"w\", encoding='utf-8') as file:\n",
    "    # Loop through each element in the list\n",
    "    for item in scrape_data:\n",
    "        print(x)\n",
    "        x = x+1\n",
    "        # Write each element to a new line in the text file\n",
    "        file.write(f\"{item}\\n\")"
   ]
  },
  {
   "cell_type": "code",
   "execution_count": 16,
   "id": "b2f9a0fe",
   "metadata": {},
   "outputs": [
    {
     "name": "stderr",
     "output_type": "stream",
     "text": [
      "Created a chunk of size 2940, which is longer than the specified 2500\n",
      "Created a chunk of size 2646, which is longer than the specified 2500\n",
      "Created a chunk of size 2647, which is longer than the specified 2500\n",
      "Created a chunk of size 2652, which is longer than the specified 2500\n",
      "Created a chunk of size 2641, which is longer than the specified 2500\n",
      "Created a chunk of size 7176, which is longer than the specified 2500\n",
      "Created a chunk of size 2650, which is longer than the specified 2500\n",
      "Created a chunk of size 2656, which is longer than the specified 2500\n"
     ]
    }
   ],
   "source": [
    "# Text Splitter\n",
    "from langchain.text_splitter import CharacterTextSplitter\n",
    "\n",
    "text_splitter = CharacterTextSplitter(chunk_size=2500,\n",
    "                                      chunk_overlap=50)\n",
    "\n",
    "\n",
    "docs = text_splitter.split_documents(scrape_data)"
   ]
  },
  {
   "cell_type": "code",
   "execution_count": 18,
   "id": "9f2e9991",
   "metadata": {},
   "outputs": [
    {
     "data": {
      "text/plain": [
       "106"
      ]
     },
     "execution_count": 18,
     "metadata": {},
     "output_type": "execute_result"
    }
   ],
   "source": [
    "len(docs)"
   ]
  },
  {
   "cell_type": "code",
   "execution_count": 19,
   "id": "d6203bcf",
   "metadata": {},
   "outputs": [],
   "source": [
    "from langchain.embeddings import HuggingFaceEmbeddings"
   ]
  },
  {
   "cell_type": "code",
   "execution_count": 20,
   "id": "981ed3b2",
   "metadata": {},
   "outputs": [
    {
     "name": "stderr",
     "output_type": "stream",
     "text": [
      "No sentence-transformers model found with name C:\\Users\\Talha Nadeem/.cache\\torch\\sentence_transformers\\google_flan-t5-large. Creating a new one with MEAN pooling.\n",
      "Some weights of the model checkpoint at C:\\Users\\Talha Nadeem/.cache\\torch\\sentence_transformers\\google_flan-t5-large were not used when initializing T5EncoderModel: ['lm_head.weight']\n",
      "- This IS expected if you are initializing T5EncoderModel from the checkpoint of a model trained on another task or with another architecture (e.g. initializing a BertForSequenceClassification model from a BertForPreTraining model).\n",
      "- This IS NOT expected if you are initializing T5EncoderModel from the checkpoint of a model that you expect to be exactly identical (initializing a BertForSequenceClassification model from a BertForSequenceClassification model).\n"
     ]
    }
   ],
   "source": [
    "hf_embeddings = HuggingFaceEmbeddings(model_name='google/flan-t5-large')"
   ]
  },
  {
   "cell_type": "code",
   "execution_count": 21,
   "id": "4adab259",
   "metadata": {},
   "outputs": [],
   "source": [
    "import pickle\n",
    "import faiss\n",
    "from langchain.vectorstores import FAISS\n",
    "db_instructEmbedd = FAISS.from_documents(docs, hf_embeddings)"
   ]
  },
  {
   "cell_type": "code",
   "execution_count": 32,
   "id": "b4fa8c58",
   "metadata": {},
   "outputs": [],
   "source": [
    "db_instructEmbedd.save_local(\"index\")"
   ]
  }
 ],
 "metadata": {
  "kernelspec": {
   "display_name": "Python 3 (ipykernel)",
   "language": "python",
   "name": "python3"
  },
  "language_info": {
   "codemirror_mode": {
    "name": "ipython",
    "version": 3
   },
   "file_extension": ".py",
   "mimetype": "text/x-python",
   "name": "python",
   "nbconvert_exporter": "python",
   "pygments_lexer": "ipython3",
   "version": "3.9.13"
  }
 },
 "nbformat": 4,
 "nbformat_minor": 5
}
